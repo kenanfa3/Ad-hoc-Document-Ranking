{
  "nbformat": 4,
  "nbformat_minor": 0,
  "metadata": {
    "colab": {
      "name": "Anseirini for candidate generation.ipynb",
      "provenance": [],
      "collapsed_sections": []
    },
    "kernelspec": {
      "name": "python3",
      "display_name": "Python 3"
    }
  },
  "cells": [
    {
      "cell_type": "markdown",
      "metadata": {
        "id": "LLl8ZDtfyDzC"
      },
      "source": [
        "# Loading pre-built Robust04 Index"
      ]
    },
    {
      "cell_type": "code",
      "metadata": {
        "id": "IIO5VQ3yXKmk"
      },
      "source": [
        "!apt-get install maven -qq"
      ],
      "execution_count": null,
      "outputs": []
    },
    {
      "cell_type": "code",
      "metadata": {
        "id": "4H2kwkOAcAoc"
      },
      "source": [
        "!git clone https://github.com/castorini/anserini.git\n",
        "%cd anserini\n",
        "!mvn clean package appassembler:assemble -DskipTests -Dmaven.javadoc.skip=true\n",
        "!cd eval && tar xvfz trec_eval.9.0.4.tar.gz && cd trec_eval.9.0.4 && make"
      ],
      "execution_count": null,
      "outputs": []
    },
    {
      "cell_type": "code",
      "metadata": {
        "id": "mFYCTJDIcImW",
        "outputId": "6a93a3a7-f999-4b91-b138-14e91ab9cbc8",
        "colab": {
          "base_uri": "https://localhost:8080/",
          "height": 68
        }
      },
      "source": [
        "!ls target"
      ],
      "execution_count": null,
      "outputs": [
        {
          "output_type": "stream",
          "text": [
            "anserini-0.8.2-SNAPSHOT-fatjar.jar  classes\t\t    maven-archiver\n",
            "anserini-0.8.2-SNAPSHOT.jar\t    generated-sources\t    maven-status\n",
            "appassembler\t\t\t    generated-test-sources  test-classes\n"
          ],
          "name": "stdout"
        }
      ]
    },
    {
      "cell_type": "code",
      "metadata": {
        "id": "itnWwlewE7F9",
        "outputId": "ed856a30-afba-4f0e-e4ab-5994aca532c1",
        "colab": {
          "base_uri": "https://localhost:8080/",
          "height": 204
        }
      },
      "source": [
        "!wget https://github.com/Georgetown-IR-Lab/cedr/blob/master/extract_docs_from_index.py"
      ],
      "execution_count": null,
      "outputs": [
        {
          "output_type": "stream",
          "text": [
            "--2020-04-12 11:10:18--  https://github.com/Georgetown-IR-Lab/cedr/blob/master/extract_docs_from_index.py\n",
            "Resolving github.com (github.com)... 140.82.114.4\n",
            "Connecting to github.com (github.com)|140.82.114.4|:443... connected.\n",
            "HTTP request sent, awaiting response... 200 OK\n",
            "Length: unspecified [text/html]\n",
            "Saving to: ‘extract_docs_from_index.py’\n",
            "\n",
            "\r          extract_d     [<=>                 ]       0  --.-KB/s               \rextract_docs_from_i     [ <=>                ]  91.27K  --.-KB/s    in 0.03s   \n",
            "\n",
            "2020-04-12 11:10:18 (3.17 MB/s) - ‘extract_docs_from_index.py’ saved [93458]\n",
            "\n"
          ],
          "name": "stdout"
        }
      ]
    },
    {
      "cell_type": "code",
      "metadata": {
        "id": "C7tD7uPqFx5L"
      },
      "source": [
        "%%capture\n",
        "!pip install pyserini==0.8.1.0\n",
        "\n",
        "import os\n",
        "os.environ[\"JAVA_HOME\"] = \"/usr/lib/jvm/java-11-openjdk-amd64\""
      ],
      "execution_count": null,
      "outputs": []
    },
    {
      "cell_type": "code",
      "metadata": {
        "id": "gZwvK8-ZcLl4",
        "outputId": "e67d06c0-0c17-47b4-dfee-1329f094e1b7",
        "colab": {
          "base_uri": "https://localhost:8080/",
          "height": 487
        }
      },
      "source": [
        "!wget https://git.uwaterloo.ca/jimmylin/anserini-indexes/raw/master/index-robust04-20191213.tar.gz\n",
        "!tar xvfz index-robust04-20191213.tar.gz"
      ],
      "execution_count": null,
      "outputs": [
        {
          "output_type": "stream",
          "text": [
            "--2020-05-29 13:39:50--  https://git.uwaterloo.ca/jimmylin/anserini-indexes/raw/master/index-robust04-20191213.tar.gz\n",
            "Resolving git.uwaterloo.ca (git.uwaterloo.ca)... 129.97.83.4\n",
            "Connecting to git.uwaterloo.ca (git.uwaterloo.ca)|129.97.83.4|:443... connected.\n",
            "HTTP request sent, awaiting response... 200 OK\n",
            "Length: 1821814915 (1.7G) [application/x-gzip]\n",
            "Saving to: ‘index-robust04-20191213.tar.gz’\n",
            "\n",
            "index-robust04-2019 100%[===================>]   1.70G  75.9MB/s    in 23s     \n",
            "\n",
            "2020-05-29 13:40:23 (74.2 MB/s) - ‘index-robust04-20191213.tar.gz’ saved [1821814915/1821814915]\n",
            "\n",
            "index-robust04-20191213/\n",
            "index-robust04-20191213/_h_Lucene50_0.doc\n",
            "index-robust04-20191213/_h_Lucene50_0.tip\n",
            "index-robust04-20191213/_h_Lucene50_0.pos\n",
            "index-robust04-20191213/segments_2\n",
            "index-robust04-20191213/_h_Lucene50_0.tim\n",
            "index-robust04-20191213/_h_Lucene80_0.dvd\n",
            "index-robust04-20191213/_h.fdt\n",
            "index-robust04-20191213/_h_Lucene80_0.dvm\n",
            "index-robust04-20191213/_h.nvm\n",
            "index-robust04-20191213/_h.nvd\n",
            "index-robust04-20191213/_h.si\n",
            "index-robust04-20191213/write.lock\n",
            "index-robust04-20191213/_h.fdx\n",
            "index-robust04-20191213/_h.fnm\n",
            "index-robust04-20191213/_h.tvd\n",
            "index-robust04-20191213/_h.tvx\n"
          ],
          "name": "stdout"
        }
      ]
    },
    {
      "cell_type": "code",
      "metadata": {
        "id": "DmWM4aQUcO2Q",
        "outputId": "0ae61808-7176-4254-b6cc-3313cdb458e7",
        "colab": {
          "base_uri": "https://localhost:8080/",
          "height": 34
        }
      },
      "source": [
        "!du -h index-robust04-20191213"
      ],
      "execution_count": null,
      "outputs": [
        {
          "output_type": "stream",
          "text": [
            "2.1G\tindex-robust04-20191213\n"
          ],
          "name": "stdout"
        }
      ]
    },
    {
      "cell_type": "code",
      "metadata": {
        "id": "0bAmnIoFGbtK",
        "outputId": "f7009c8b-fb3a-40e4-caae-fabcaed2e1ce",
        "colab": {
          "base_uri": "https://localhost:8080/",
          "height": 185
        }
      },
      "source": [
        "from pyserini.search import pysearch\n",
        "\n",
        "searcher = pysearch.SimpleSearcher('index-robust04-20191213')\n",
        "hits = searcher.search('black bear attacks',1000)\n",
        "\n",
        "# Prints the first 10 hits\n",
        "for i in range(0, 10):\n",
        "    print(f'{i+1:2} {hits[i].docid:15} {hits[i].score:.5f}')"
      ],
      "execution_count": null,
      "outputs": [
        {
          "output_type": "stream",
          "text": [
            " 1 LA092790-0015   7.06680\n",
            " 2 LA081689-0039   6.89020\n",
            " 3 FBIS4-16530     6.61630\n",
            " 4 LA102589-0076   6.46450\n",
            " 5 FT932-15491     6.25090\n",
            " 6 FBIS3-12276     6.24630\n",
            " 7 LA091090-0085   6.17030\n",
            " 8 FT922-13519     6.04270\n",
            " 9 LA052790-0205   5.94060\n",
            "10 LA103089-0041   5.90650\n"
          ],
          "name": "stdout"
        }
      ]
    },
    {
      "cell_type": "code",
      "metadata": {
        "id": "k7oWE0fc51ut"
      },
      "source": [
        "from pyserini.index import pyutils\n",
        "index_utils = pyutils.IndexReaderUtils('index-robust04-20191213/')\n",
        "from bs4 import BeautifulSoup\n"
      ],
      "execution_count": null,
      "outputs": []
    },
    {
      "cell_type": "code",
      "metadata": {
        "id": "1YjTI5N653l9",
        "outputId": "8fe82d20-154d-43e0-cc7d-fa2d88ddff1d",
        "colab": {
          "base_uri": "https://localhost:8080/",
          "height": 54
        }
      },
      "source": [
        "BeautifulSoup(index_utils.get_raw_document_contents(\"LA092790-0015\"), \"lxml\").text.replace('\\t', ' ').replace('\\r', ' ').replace('\\n', ' ')"
      ],
      "execution_count": null,
      "outputs": [
        {
          "output_type": "execute_result",
          "data": {
            "text/plain": [
              "'  September 27, 1990, Thursday, Ventura County Edition     HUNGRY WILDLIFE STRAYING INTO SUBURBS;   DROUGHT: FOUR DRY YEARS HAVE PARCHED NATIVE VEGETATION, FORCING BOBCATS, BEARS, MOUNTAIN LIONS, DEER AND COYOTES TO FORAGE CLOSER TO INHABITED AREAS.     Hungry bobcats, bears and mountain lions -- unable to find food in Ventura County\\'s drought-parched forests -- are being pushed out of their natural habitats to scavenge in rural communities, game officials said Wednesday.   Two weeks ago, a black bear ripped the door off a trailer home in Rose Valley just north of Ojai. And within the past month, there have been several reports of mountain lions eating livestock near Los Padres National Forest. Several bobcats have been reported near houses in the Ojai Valley.   Authorities say that over the past two years they have received twice the complaints -- about 20 a month -- of wild animals in populated areas. The drought is now in its fourth year in California.   \"We\\'ve been having more and more conflicts with animals,\" said Capt. Roger Reese, with the state Department of Fish and Game. \"The fact is, it\\'s very dry out there, and there just isn\\'t a lot of food and water for them.\"   Animal control officials say they are advising residents in rural areas to be aware of the problem. But so far, no one has been attacked by the wild animals, although there have been such attacks reported elsewhere in Southern California, authorities said.   Coyotes have been running amok, officials said. Virtually all parts of the county except beach areas probably have been visited at one time or another by coyotes, said Kathy Jenks, director of the Ventura County Department of Animal Regulation.   In Ventura, coyotes are often seen in Grant Park above City Hall, and in Arroyo Verde Park in the Ondulando district on the east side, Jenks said.   Elsewhere, coyotes have been seen on streets in Thousand Oaks, Moorpark and Simi Valley. The rural, foothill developments are especially vulnerable, she said.   Jenks said she advises residents to keep small pets inside, especially at night.   There have even been a few cases in which brazen coyotes have attacked family animals in back yards, and a large number of house cats are disappearing, officials said.   \"The common house cat is like a fancy feast for a coyote,\" she said. \"They\\'re hungry, they\\'re thirsty and they\\'re coming down out of the hills.\"   There have been a few reports of deer grazing in people\\'s yards, Reese said.   Traditionally, September is the worst month for wildlife, authorities said.   \"It is usually the driest month,\" Reese said. \"And a lot of animals that have been raised in the spring leave their parents and go in search of food.\"   More animals are expected to leave their natural habitats if the drought continues, officials said.   \"I tell people who call that if we didn\\'t have the big cats and the coyotes, we would be overrun by rodents,\" Jenks said. \"I would much rather hear a coyote in the distance than have roof rats.\"   Don DeBusschere, who lives on a 45-acre walnut orchard in Happy Valley near Ojai, said his family has grown accustomed to wild animals. DeBusschere said he has seen scores of coyotes, several deer and a black bear.   Recently, he said, two bobcats have moved into the trees on the edge of his property.   \"They\\'re not out to get humans,\" DeBusschere said. \"They\\'re just trying to make a living off the land.\"  '"
            ]
          },
          "metadata": {
            "tags": []
          },
          "execution_count": 17
        }
      ]
    },
    {
      "cell_type": "code",
      "metadata": {
        "id": "N6vtZZXUGf7W",
        "outputId": "5094d21b-002d-4066-942e-a0b0ffe77066",
        "colab": {
          "base_uri": "https://localhost:8080/",
          "height": 34
        }
      },
      "source": [
        "from IPython.core.display import display, HTML\n",
        "print(HTML('<div style=\"font-family: Times New Roman; padding-bottom:10px\">' + hits[0].raw + '</div>'))"
      ],
      "execution_count": null,
      "outputs": [
        {
          "output_type": "stream",
          "text": [
            "<IPython.core.display.HTML object>\n"
          ],
          "name": "stdout"
        }
      ]
    },
    {
      "cell_type": "markdown",
      "metadata": {
        "id": "I__1QmJhx4FK"
      },
      "source": [
        "## Trying some baseline models: BM25, RM3\n"
      ]
    },
    {
      "cell_type": "code",
      "metadata": {
        "id": "BDaDhuHKefdz",
        "outputId": "0b0769f9-ee17-431d-b79e-c3c8db52a603",
        "colab": {
          "base_uri": "https://localhost:8080/",
          "height": 527
        }
      },
      "source": [
        "!eval/trec_eval.9.0.4/trec_eval -c src/main/resources/topics-and-qrels/qrels.robust04.txt run.robust04.ql+rm3.topics.robust04.txt"
      ],
      "execution_count": null,
      "outputs": [
        {
          "output_type": "stream",
          "text": [
            "runid                 \tall\tAnserini\n",
            "num_q                 \tall\t249\n",
            "num_ret               \tall\t249000\n",
            "num_rel               \tall\t17412\n",
            "num_rel_ret           \tall\t10918\n",
            "map                   \tall\t0.2747\n",
            "gm_map                \tall\t0.1414\n",
            "Rprec                 \tall\t0.3043\n",
            "bpref                 \tall\t0.2732\n",
            "recip_rank            \tall\t0.6530\n",
            "iprec_at_recall_0.00  \tall\t0.6945\n",
            "iprec_at_recall_0.10  \tall\t0.5272\n",
            "iprec_at_recall_0.20  \tall\t0.4432\n",
            "iprec_at_recall_0.30  \tall\t0.3744\n",
            "iprec_at_recall_0.40  \tall\t0.3103\n",
            "iprec_at_recall_0.50  \tall\t0.2662\n",
            "iprec_at_recall_0.60  \tall\t0.2085\n",
            "iprec_at_recall_0.70  \tall\t0.1665\n",
            "iprec_at_recall_0.80  \tall\t0.1166\n",
            "iprec_at_recall_0.90  \tall\t0.0774\n",
            "iprec_at_recall_1.00  \tall\t0.0398\n",
            "P_5                   \tall\t0.4843\n",
            "P_10                  \tall\t0.4329\n",
            "P_15                  \tall\t0.4048\n",
            "P_20                  \tall\t0.3723\n",
            "P_30                  \tall\t0.3232\n",
            "P_100                 \tall\t0.1914\n",
            "P_200                 \tall\t0.1320\n",
            "P_500                 \tall\t0.0732\n",
            "P_1000                \tall\t0.0438\n"
          ],
          "name": "stdout"
        }
      ]
    },
    {
      "cell_type": "code",
      "metadata": {
        "id": "YHN2_wl5cU2A",
        "outputId": "9197cba2-ab04-4032-8714-a64edd4096e8",
        "colab": {
          "base_uri": "https://localhost:8080/",
          "height": 527
        }
      },
      "source": [
        "!eval/trec_eval.9.0.4/trec_eval -c src/main/resources/topics-and-qrels/qrels.robust04.txt run.robust04.bm25.txt"
      ],
      "execution_count": null,
      "outputs": [
        {
          "output_type": "stream",
          "text": [
            "runid                 \tall\tAnserini\n",
            "num_q                 \tall\t249\n",
            "num_ret               \tall\t241339\n",
            "num_rel               \tall\t17412\n",
            "num_rel_ret           \tall\t10272\n",
            "map                   \tall\t0.2531\n",
            "gm_map                \tall\t0.1455\n",
            "Rprec                 \tall\t0.2924\n",
            "bpref                 \tall\t0.2603\n",
            "recip_rank            \tall\t0.6769\n",
            "iprec_at_recall_0.00  \tall\t0.7158\n",
            "iprec_at_recall_0.10  \tall\t0.5286\n",
            "iprec_at_recall_0.20  \tall\t0.4268\n",
            "iprec_at_recall_0.30  \tall\t0.3541\n",
            "iprec_at_recall_0.40  \tall\t0.2789\n",
            "iprec_at_recall_0.50  \tall\t0.2299\n",
            "iprec_at_recall_0.60  \tall\t0.1786\n",
            "iprec_at_recall_0.70  \tall\t0.1404\n",
            "iprec_at_recall_0.80  \tall\t0.0866\n",
            "iprec_at_recall_0.90  \tall\t0.0553\n",
            "iprec_at_recall_1.00  \tall\t0.0281\n",
            "P_5                   \tall\t0.5004\n",
            "P_10                  \tall\t0.4382\n",
            "P_15                  \tall\t0.3987\n",
            "P_20                  \tall\t0.3631\n",
            "P_30                  \tall\t0.3102\n",
            "P_100                 \tall\t0.1837\n",
            "P_200                 \tall\t0.1250\n",
            "P_500                 \tall\t0.0689\n",
            "P_1000                \tall\t0.0413\n"
          ],
          "name": "stdout"
        }
      ]
    },
    {
      "cell_type": "markdown",
      "metadata": {
        "id": "63CNtP96zAHz"
      },
      "source": [
        "# Preparing Documents and queries for training"
      ]
    },
    {
      "cell_type": "code",
      "metadata": {
        "id": "_8VQPkyEVp8_",
        "outputId": "b35fcd61-8b61-461e-cfc6-2810fbead552",
        "colab": {
          "base_uri": "https://localhost:8080/",
          "height": 202
        }
      },
      "source": [
        "!wget https://raw.githubusercontent.com/Georgetown-IR-Lab/cedr/master/data/robust/queries.tsv"
      ],
      "execution_count": null,
      "outputs": [
        {
          "output_type": "stream",
          "text": [
            "--2020-05-29 13:46:13--  https://raw.githubusercontent.com/Georgetown-IR-Lab/cedr/master/data/robust/queries.tsv\n",
            "Resolving raw.githubusercontent.com (raw.githubusercontent.com)... 151.101.0.133, 151.101.64.133, 151.101.128.133, ...\n",
            "Connecting to raw.githubusercontent.com (raw.githubusercontent.com)|151.101.0.133|:443... connected.\n",
            "HTTP request sent, awaiting response... 200 OK\n",
            "Length: 7873 (7.7K) [text/plain]\n",
            "Saving to: ‘queries.tsv’\n",
            "\n",
            "\rqueries.tsv           0%[                    ]       0  --.-KB/s               \rqueries.tsv         100%[===================>]   7.69K  --.-KB/s    in 0s      \n",
            "\n",
            "2020-05-29 13:46:13 (91.6 MB/s) - ‘queries.tsv’ saved [7873/7873]\n",
            "\n"
          ],
          "name": "stdout"
        }
      ]
    },
    {
      "cell_type": "code",
      "metadata": {
        "id": "cO7wOHGKVp9E",
        "outputId": "a12f1f3d-1e8b-4577-fbe0-9fa3f4dae505",
        "colab": {
          "base_uri": "https://localhost:8080/",
          "height": 1000
        }
      },
      "source": [
        "with open('queries.tsv','r') as f:\n",
        "  queries = {}\n",
        "  for line in f:\n",
        "    cols = line.rstrip().split('\\t')\n",
        "    c_type, c_id, c_text = cols\n",
        "    queries[c_id] = c_text\n",
        "queries"
      ],
      "execution_count": null,
      "outputs": [
        {
          "output_type": "execute_result",
          "data": {
            "text/plain": [
              "{'301': 'International Organized Crime',\n",
              " '302': 'Poliomyelitis and Post-Polio',\n",
              " '303': 'Hubble Telescope Achievements',\n",
              " '304': 'Endangered Species (Mammals)',\n",
              " '305': 'Most Dangerous Vehicles',\n",
              " '306': 'African Civilian Deaths',\n",
              " '307': 'New Hydroelectric Projects',\n",
              " '308': 'Implant Dentistry',\n",
              " '309': 'Rap and Crime',\n",
              " '310': 'Radio Waves and Brain Cancer',\n",
              " '311': 'Industrial Espionage',\n",
              " '312': 'Hydroponics',\n",
              " '313': 'Magnetic Levitation-Maglev',\n",
              " '314': 'Marine Vegetation',\n",
              " '315': 'Unexplained Highway Accidents',\n",
              " '316': 'Polygamy Polyandry Polygyny',\n",
              " '317': 'Unsolicited Faxes',\n",
              " '318': 'Best Retirement Country',\n",
              " '319': 'New Fuel Sources',\n",
              " '320': 'Undersea Fiber Optic Cable',\n",
              " '321': 'Women in Parliaments',\n",
              " '322': 'International Art Crime',\n",
              " '323': 'Literary/Journalistic Plagiarism',\n",
              " '324': 'Argentine/British Relations',\n",
              " '325': 'Cult Lifestyles',\n",
              " '326': 'Ferry Sinkings',\n",
              " '327': 'Modern Slavery',\n",
              " '328': 'Pope Beatifications',\n",
              " '329': 'Mexican Air Pollution',\n",
              " '330': 'Iran-Iraq Cooperation',\n",
              " '331': 'World Bank Criticism',\n",
              " '332': 'Income Tax Evasion',\n",
              " '333': 'Antibiotics Bacteria Disease',\n",
              " '334': 'Export Controls Cryptography',\n",
              " '335': 'Adoptive Biological Parents',\n",
              " '336': 'Black Bear Attacks',\n",
              " '337': 'Viral Hepatitis',\n",
              " '338': 'Risk of Aspirin',\n",
              " '339': \"Alzheimer's Drug Treatment\",\n",
              " '340': 'Land Mine Ban',\n",
              " '341': 'Airport Security',\n",
              " '342': 'Diplomatic Expulsion',\n",
              " '343': 'Police Deaths',\n",
              " '344': 'Abuses of E-Mail',\n",
              " '345': 'Overseas Tobacco Sales',\n",
              " '346': 'Educational Standards',\n",
              " '347': 'Wildlife Extinction',\n",
              " '348': 'Agoraphobia',\n",
              " '349': 'Metabolism',\n",
              " '350': 'Health and Computer Terminals',\n",
              " '351': 'Falkland petroleum exploration',\n",
              " '352': 'British Chunnel impact',\n",
              " '353': 'Antarctica exploration',\n",
              " '354': 'journalist risks',\n",
              " '355': 'ocean remote sensing',\n",
              " '356': 'postmenopausal estrogen Britain',\n",
              " '357': 'territorial waters dispute',\n",
              " '358': 'blood-alcohol fatalities',\n",
              " '359': 'mutual fund predictors',\n",
              " '360': 'drug legalization benefits',\n",
              " '361': 'clothing sweatshops',\n",
              " '362': 'human smuggling',\n",
              " '363': 'transportation tunnel disasters',\n",
              " '364': 'rabies',\n",
              " '365': 'El Nino',\n",
              " '366': 'commercial cyanide uses',\n",
              " '367': 'piracy',\n",
              " '368': 'in vitro fertilization',\n",
              " '369': 'anorexia nervosa bulimia',\n",
              " '370': 'food/drug laws',\n",
              " '371': 'health insurance holistic',\n",
              " '372': 'Native American casino',\n",
              " '373': 'encryption equipment export',\n",
              " '374': 'Nobel prize winners',\n",
              " '375': 'hydrogen energy',\n",
              " '376': 'World Court',\n",
              " '377': 'cigar smoking',\n",
              " '378': 'euro opposition',\n",
              " '379': 'mainstreaming',\n",
              " '380': 'obesity medical treatment',\n",
              " '381': 'alternative medicine',\n",
              " '382': 'hydrogen fuel automobiles',\n",
              " '383': 'mental illness drugs',\n",
              " '384': 'space station moon',\n",
              " '385': 'hybrid fuel cars',\n",
              " '386': 'teaching disabled children',\n",
              " '387': 'radioactive waste',\n",
              " '388': 'organic soil enhancement',\n",
              " '389': 'illegal technology transfer',\n",
              " '390': 'orphan drugs',\n",
              " '391': 'R&D drug prices',\n",
              " '392': 'robotics',\n",
              " '393': 'mercy killing',\n",
              " '394': 'home schooling',\n",
              " '395': 'tourism',\n",
              " '396': 'sick building syndrome',\n",
              " '397': 'automobile recalls',\n",
              " '398': \"dismantling Europe's arsenal\",\n",
              " '399': 'oceanographic vessels',\n",
              " '400': 'Amazon rain forest',\n",
              " '401': 'foreign minorities, Germany',\n",
              " '402': 'behavioral genetics',\n",
              " '403': 'osteoporosis',\n",
              " '404': 'Ireland, peace talks',\n",
              " '405': 'cosmic events',\n",
              " '406': \"Parkinson's disease\",\n",
              " '407': 'poaching, wildlife preserves',\n",
              " '408': 'tropical storms',\n",
              " '409': 'legal, Pan Am, 103',\n",
              " '410': 'Schengen agreement',\n",
              " '411': 'salvaging, shipwreck, treasure',\n",
              " '412': 'airport security',\n",
              " '413': 'steel production',\n",
              " '414': 'Cuba, sugar, exports',\n",
              " '415': 'drugs, Golden Triangle',\n",
              " '416': 'Three Gorges Project',\n",
              " '417': 'creativity',\n",
              " '418': 'quilts, income',\n",
              " '419': 'recycle, automobile tires',\n",
              " '420': 'carbon monoxide poisoning',\n",
              " '421': 'industrial waste disposal',\n",
              " '422': 'art, stolen, forged',\n",
              " '423': 'Milosevic, Mirjana Markovic',\n",
              " '424': 'suicides',\n",
              " '425': 'counterfeiting money',\n",
              " '426': 'law enforcement, dogs',\n",
              " '427': 'UV damage, eyes',\n",
              " '428': 'declining birth rates',\n",
              " '429': \"Legionnaires' disease\",\n",
              " '430': 'killer bee attacks',\n",
              " '431': 'robotic technology',\n",
              " '432': 'profiling, motorists, police',\n",
              " '433': 'Greek, philosophy, stoicism',\n",
              " '434': 'Estonia, economy',\n",
              " '435': 'curbing population growth',\n",
              " '436': 'railway accidents',\n",
              " '437': 'deregulation, gas, electric',\n",
              " '438': 'tourism, increase',\n",
              " '439': 'inventions, scientific discoveries',\n",
              " '440': 'child labor',\n",
              " '441': 'Lyme disease',\n",
              " '442': 'heroic acts',\n",
              " '443': 'U.S., investment, Africa',\n",
              " '444': 'supercritical fluids',\n",
              " '445': 'women clergy',\n",
              " '446': 'tourists, violence',\n",
              " '447': 'Stirling engine',\n",
              " '448': 'ship losses',\n",
              " '449': 'antibiotics ineffectiveness',\n",
              " '450': 'King Hussein, peace',\n",
              " '601': 'Turkey Iraq water',\n",
              " '602': 'Czech, Slovak sovereignty',\n",
              " '603': 'Tobacco cigarette lawsuit',\n",
              " '604': 'Lyme disease arthritis',\n",
              " '605': 'Great Britain health care',\n",
              " '606': 'leg traps ban',\n",
              " '607': 'human genetic code',\n",
              " '608': 'taxing social security',\n",
              " '609': 'per capita alcohol consumption',\n",
              " '610': 'minimum wage adverse impact',\n",
              " '611': 'Kurds Germany violence',\n",
              " '612': 'Tibet protesters',\n",
              " '613': 'Berlin wall disposal',\n",
              " '614': 'Flavr Savr tomato',\n",
              " '615': 'timber exports Asia',\n",
              " '616': 'Volkswagen Mexico',\n",
              " '617': 'Russia Cuba economy',\n",
              " '618': 'Ayatollah Khomeini death',\n",
              " '619': 'Winnie Mandela scandal',\n",
              " '620': 'France nuclear testing',\n",
              " '621': 'women ordained Church of England',\n",
              " '622': 'price fixing',\n",
              " '623': 'toxic chemical weapon',\n",
              " '624': 'SDI Star Wars',\n",
              " '625': 'arrests bombing WTC',\n",
              " '626': 'human stampede',\n",
              " '627': 'Russian food crisis',\n",
              " '628': 'U.S. invasion of Panama',\n",
              " '629': 'abortion clinic attack',\n",
              " '630': 'Gulf War Syndrome',\n",
              " '631': 'Mandela South Africa President',\n",
              " '632': 'southeast Asia tin mining',\n",
              " '633': 'Welsh devolution',\n",
              " '634': 'L-tryptophan deaths',\n",
              " '635': 'doctor assisted suicides',\n",
              " '636': 'jury duty exemptions',\n",
              " '637': 'human growth hormone (HGH)',\n",
              " '638': 'wrongful convictions',\n",
              " '639': 'consumer on-line shopping',\n",
              " '640': 'maternity leave policies',\n",
              " '641': 'Valdez wildlife marine life',\n",
              " '642': 'Tiananmen Square protesters',\n",
              " '643': 'salmon dams Pacific northwest',\n",
              " '644': 'exotic animals import',\n",
              " '645': 'software piracy',\n",
              " '646': 'food stamps increase',\n",
              " '647': 'windmill electricity',\n",
              " '648': 'family leave law',\n",
              " '649': 'computer viruses',\n",
              " '650': 'tax evasion indicted',\n",
              " '651': 'U.S. ethnic population',\n",
              " '652': 'OIC Balkans 1990s',\n",
              " '653': 'ETA Basque terrorism',\n",
              " '654': 'same-sex schools',\n",
              " '655': 'ADD diagnosis treatment',\n",
              " '656': 'lead poisoning children',\n",
              " '657': 'school prayer banned',\n",
              " '658': 'teenage pregnancy',\n",
              " '659': 'cruise health safety',\n",
              " '660': 'whale watching California',\n",
              " '661': 'melanoma treatment causes',\n",
              " '662': 'telemarketer protection',\n",
              " '663': 'Agent Orange exposure',\n",
              " '664': 'American Indian Museum',\n",
              " '665': 'poverty Africa sub-Sahara',\n",
              " '666': 'Thatcher resignation impact',\n",
              " '667': 'unmarried-partner households',\n",
              " '668': 'poverty, disease',\n",
              " '669': 'Islamic Revolution',\n",
              " '670': 'U.S. elections apathy',\n",
              " '671': 'Salvation Army benefits',\n",
              " '672': 'NRA membership profile',\n",
              " '673': 'Soviet withdrawal Afghanistan',\n",
              " '674': 'Greenpeace prosecuted',\n",
              " '675': 'Olympics training swimming',\n",
              " '676': 'poppy cultivation',\n",
              " '677': 'Leaning Tower of Pisa',\n",
              " '678': 'joint custody impact',\n",
              " '679': 'opening adoption records',\n",
              " '680': 'immigrants Spanish school',\n",
              " '681': 'wind power location',\n",
              " '682': 'adult immigrants English',\n",
              " '683': 'Czechoslovakia breakup',\n",
              " '684': 'part-time benefits',\n",
              " '685': 'Oscar winner selection',\n",
              " '686': 'Argentina pegging dollar',\n",
              " '687': 'Northern Ireland industry',\n",
              " '688': 'non-U.S. media bias',\n",
              " '689': 'family-planning aid',\n",
              " '690': 'college education advantage',\n",
              " '691': 'clear-cutting forests',\n",
              " '692': 'prostate cancer detection treatment',\n",
              " '693': 'newspapers electronic media',\n",
              " '694': 'compost pile',\n",
              " '695': 'white collar crime sentence',\n",
              " '696': 'safety plastic surgery',\n",
              " '697': 'air traffic controller',\n",
              " '698': 'literacy rates Africa',\n",
              " '699': 'term limits',\n",
              " '700': 'gasoline tax U.S.'}"
            ]
          },
          "metadata": {
            "tags": []
          },
          "execution_count": 13
        }
      ]
    },
    {
      "cell_type": "code",
      "metadata": {
        "id": "aXrGy4T_GfAZ"
      },
      "source": [
        "'''\n",
        "Parameters Learned in the Comparison of Retrieval Models using Term Dependencies\n",
        "Samuel Huston and W. Bruce Croft\n",
        "Center for Intelligent Information Retrieval\n",
        "University of Massachusetts Amherst\n",
        "140 Governors Dr, Amherst, Massachusetts, 01003\n",
        "{sjh,croft}@cs.umass.edu\n",
        "''' \n",
        "# folds inds\n",
        "folds_string = '''1 302 301 306 320 304\n",
        "2 303 308 307 325 305\n",
        "3 309 312 313 330 310\n",
        "4 316 322 321 332 311\n",
        "5 317 327 324 335 314\n",
        "6 319 328 326 337 315\n",
        "7 323 338 334 342 318\n",
        "8 331 343 347 344 329\n",
        "9 336 348 351 350 333\n",
        "10 341 349 354 355 339\n",
        "11 356 352 358 368 340\n",
        "12 357 360 361 377 345\n",
        "13 370 364 362 379 346\n",
        "14 373 365 363 387 353\n",
        "15 378 369 376 393 359\n",
        "16 381 371 380 398 366\n",
        "17 383 374 382 402 367\n",
        "18 392 386 396 405 372\n",
        "19 394 390 404 407 375\n",
        "20 406 397 413 408 384\n",
        "21 410 403 415 412 385\n",
        "22 411 419 417 420 388\n",
        "23 414 422 427 421 389\n",
        "24 426 423 436 425 391\n",
        "25 428 424 437 430 395\n",
        "26 433 432 439 431 399\n",
        "27 447 434 444 435 400\n",
        "28 448 440 445 438 401\n",
        "29 601 446 449 616 409\n",
        "30 607 602 450 618 416\n",
        "31 608 604 603 625 418\n",
        "32 612 611 605 630 429\n",
        "33 617 623 606 633 441\n",
        "34 619 624 614 636 442\n",
        "35 635 627 620 639 443\n",
        "36 641 632 622 649 609\n",
        "37 642 638 626 650 610\n",
        "38 646 643 628 653 613\n",
        "39 647 651 631 655 615\n",
        "40 654 652 637 657 621\n",
        "41 656 663 644 659 629\n",
        "42 662 674 648 667 634\n",
        "43 665 675 661 668 640\n",
        "44 669 678 664 672 645\n",
        "45 670 680 666 673 658\n",
        "46 679 683 671 676 660\n",
        "47 684 688 677 682 681\n",
        "48 690 689 685 686 694\n",
        "49 692 695 687 691 696\n",
        "50 700 698 693 697 699'''\n",
        "\n",
        "\n",
        "fold1,fold2,fold3,fold4,fold5 = [],[],[],[],[]\n",
        "for line in folds_string.split('\\n'):\n",
        "  line_split = line.split()\n",
        "  fold1.append(line_split[1])\n",
        "  fold2.append(line_split[2])\n",
        "  fold3.append(line_split[3])\n",
        "  fold4.append(line_split[4])\n",
        "  fold5.append(line_split[5])\n",
        "\n",
        "folds = [fold1,fold2,fold3,fold4,fold5]"
      ],
      "execution_count": null,
      "outputs": []
    },
    {
      "cell_type": "code",
      "metadata": {
        "id": "LOEqpSmiJ9fQ",
        "outputId": "bb732b1d-23f0-4b7f-df94-bd41f68e784d",
        "colab": {
          "base_uri": "https://localhost:8080/",
          "height": 185
        }
      },
      "source": [
        "from itertools import combinations \n",
        "list(combinations([1,2,3,4,5], 3))"
      ],
      "execution_count": null,
      "outputs": [
        {
          "output_type": "execute_result",
          "data": {
            "text/plain": [
              "[(1, 2, 3),\n",
              " (1, 2, 4),\n",
              " (1, 2, 5),\n",
              " (1, 3, 4),\n",
              " (1, 3, 5),\n",
              " (1, 4, 5),\n",
              " (2, 3, 4),\n",
              " (2, 3, 5),\n",
              " (2, 4, 5),\n",
              " (3, 4, 5)]"
            ]
          },
          "metadata": {
            "tags": []
          },
          "execution_count": 4
        }
      ]
    },
    {
      "cell_type": "code",
      "metadata": {
        "id": "UiRsRwyAGgxf"
      },
      "source": [
        "# [(train_folds) , val_fold, testing_fold] combination\n",
        "folds_combinations = \n",
        "[[(1, 2, 3),4,5],\n",
        "[(2, 1, 4),5,3],\n",
        "[(3, 4, 5),1,2],\n",
        "[(1, 3, 5),2,4],\n",
        "[(2, 4, 5),1,3]]"
      ],
      "execution_count": null,
      "outputs": []
    },
    {
      "cell_type": "code",
      "metadata": {
        "id": "NVEIVxh_t13i",
        "outputId": "e17be17d-c88f-483e-d023-062c1070ac54",
        "colab": {
          "base_uri": "https://localhost:8080/",
          "height": 34
        }
      },
      "source": [
        "print(*folds_combinations, sep = \", \")"
      ],
      "execution_count": null,
      "outputs": [
        {
          "output_type": "stream",
          "text": [
            "[(1, 2, 3), 4, 5], [(2, 1, 4), 5, 3], [(3, 4, 5), 1, 2], [(1, 3, 5), 2, 4], [(2, 4, 5), 1, 3]\n"
          ],
          "name": "stdout"
        }
      ]
    },
    {
      "cell_type": "code",
      "metadata": {
        "id": "9pl9UKSDr7B7"
      },
      "source": [
        "set_of_docs = set()\n",
        "for hit in hits:\n",
        "  set_of_docs.add(hit.docid)"
      ],
      "execution_count": null,
      "outputs": []
    },
    {
      "cell_type": "code",
      "metadata": {
        "id": "jde_0fwUrZdF"
      },
      "source": [
        "set_of_docs = set()\n",
        "count = 0\n",
        "for i,comb in enumerate(folds_combinations):\n",
        "  count+=1\n",
        "  training_queries = folds[comb[0][0]-1] + folds[comb[0][1]-1] + folds[comb[0][2]-1]\n",
        "  for query in training_queries:\n",
        "    hits = searcher.search(queries[query],100000)\n",
        "    for hit in hits:\n",
        "      set_of_docs.add(hit.docid)\n",
        "  if(count > 10):\n",
        "    break"
      ],
      "execution_count": null,
      "outputs": []
    },
    {
      "cell_type": "code",
      "metadata": {
        "id": "TEGgNtsMKk6f"
      },
      "source": [
        "# training file\n",
        "set_of_docs = set()\n",
        "for i,comb in enumerate(folds_combinations):\n",
        " \n",
        "  with open(f'data/fold_{i+1}.train','w') as f:\n",
        "    training_queries = folds[comb[0][0]-1] + folds[comb[0][1]-1] + folds[comb[0][2]-1]\n",
        "\n",
        "    for query in training_queries:\n",
        "      hits = searcher.search(queries[query],150)\n",
        "      for hit in hits:\n",
        "        set_of_docs.add(hit.docid)\n",
        "        f.write(f'{query}\\t{hit.docid}\\n')"
      ],
      "execution_count": null,
      "outputs": []
    },
    {
      "cell_type": "code",
      "metadata": {
        "id": "yE4bd7hTYZrY"
      },
      "source": [
        "# val files\n",
        "for i,comb in enumerate(folds_combinations):\n",
        " \n",
        "  with open(f'data/fold_{i+1}.val','w') as f:\n",
        "    val_queries =  folds[comb[1]-1]\n",
        "\n",
        "    for query in val_queries:\n",
        "      hits = searcher.search(queries[query],150)\n",
        "      for hit in hits:\n",
        "        f.write(f'{query}\\t{hit.docid}\\n')"
      ],
      "execution_count": null,
      "outputs": []
    },
    {
      "cell_type": "code",
      "metadata": {
        "id": "mPrkxGlIa5xl"
      },
      "source": [
        "# test files\n",
        "for i,comb in enumerate(folds_combinations):\n",
        " \n",
        "  with open(f'data/fold_{i+1}.test','w') as f:\n",
        "    test_queries =  folds[comb[2]-1]\n",
        "\n",
        "    for query in test_queries:\n",
        "      hits = searcher.search(queries[query],150)\n",
        "      for hit in hits:\n",
        "        f.write(f'{query}\\t{hit.docid}\\n')"
      ],
      "execution_count": null,
      "outputs": []
    }
  ]
}